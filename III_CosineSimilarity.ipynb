{
  "nbformat": 4,
  "nbformat_minor": 0,
  "metadata": {
    "colab": {
      "provenance": []
    },
    "kernelspec": {
      "name": "python3",
      "display_name": "Python 3"
    },
    "language_info": {
      "name": "python"
    }
  },
  "cells": [
    {
      "cell_type": "markdown",
      "source": [
        "Test case similarity\n",
        "Cosine similarity (of test case representation vectors) with distance between test case name embeddings (using Word2Vec)"
      ],
      "metadata": {
        "id": "spp30T8pZIZ7"
      }
    },
    {
      "cell_type": "code",
      "execution_count": null,
      "metadata": {
        "id": "9aCWfkzdVEbR"
      },
      "outputs": [],
      "source": [
        "\n",
        "import os\n",
        "import gc\n",
        "import pandas as pd\n",
        "import numpy as np\n",
        "import math\n",
        "import statistics as st\n",
        "import re\n",
        "import string\n",
        "import time\n",
        "\n",
        "from scipy import spatial\n",
        "import matplotlib.pyplot as plt\n",
        "from collections import defaultdict \n",
        "\n",
        "from nltk.corpus import stopwords \n",
        "from nltk.tokenize import RegexpTokenizer, word_tokenize, TweetTokenizer\n",
        "from nltk.stem import WordNetLemmatizer \n",
        "import nltk\n"
      ]
    },
    {
      "cell_type": "markdown",
      "source": [
        "**Load clusters obtained by the best approach (ensemble)**"
      ],
      "metadata": {
        "id": "lg3N_jSRZBj6"
      }
    },
    {
      "cell_type": "code",
      "source": [
        "\n",
        "approach_ensemble_dict = {}\n",
        "cluster_file = open('ensemble_cluster_labels.txt')\n",
        "for line in cluster_file:\n",
        "    full_line = line.split()\n",
        "    cluster_id = int(full_line[0].replace('[', '').replace(']', '').replace(':', ''))\n",
        "    step_id_list = full_line[1].split(',')\n",
        "    for step_id in step_id_list:\n",
        "        approach_ensemble_dict[int(float(step_id))] = cluster_id"
      ],
      "metadata": {
        "id": "KTacIQ9mXouW"
      },
      "execution_count": null,
      "outputs": []
    },
    {
      "cell_type": "markdown",
      "source": [],
      "metadata": {
        "id": "E-RYSTk7ZHm5"
      }
    },
    {
      "cell_type": "markdown",
      "source": [
        "Read and preprocess files with test cases and build dataframe"
      ],
      "metadata": {
        "id": "VMDCK8loZyfp"
      }
    },
    {
      "cell_type": "code",
      "source": [
        "\n",
        "current_dir = os.getcwd() \n",
        "parent_dir = os.path.dirname(current_dir) + \"\\\\filtered_data\\\\\"\n",
        "xlsxfiles = [os.path.join(root, name)\n",
        "             for root, dirs, files in os.walk(parent_dir)\n",
        "             for name in files\n",
        "             if name.endswith((\".xlsx\"))]"
      ],
      "metadata": {
        "id": "taf8dQ08aE0f"
      },
      "execution_count": null,
      "outputs": []
    },
    {
      "cell_type": "code",
      "source": [
        "\n",
        "column_names = [\"Type\", \"Key\", \"Case_Name\", \"Step_ID\", \"Steps\"]\n",
        "test_steps_df = pd.DataFrame(columns = column_names)\n",
        "\n",
        "index_to_add = 0\n",
        "\n",
        "print(\"Reading input data...\")   \n",
        "\n",
        "test_file='/content/drive/MyDrive/test_cases.xlsx'\n",
        "test_data_df = pd.read_excel(test_file)\n",
        "for index, row in test_data_df.iterrows():\n",
        "        current_type = row[\"Type\"]\n",
        "        current_key = row[\"Key\"]\n",
        "        current_name = row[\"Case_Name\"]\n",
        "        current_step_id = row[\"Step_ID\"]\n",
        "        current_steps = row[\"Steps\"]\n",
        "        test_steps_df.loc[index_to_add] = [current_type, current_key, current_name, current_step_id, current_steps]\n",
        "        index_to_add += 1\n",
        "\n",
        "print(\"Done!\")\n",
        "print(\"Shape of data => \", test_steps_df.shape)"
      ],
      "metadata": {
        "colab": {
          "base_uri": "https://localhost:8080/"
        },
        "id": "ak9EwpcIaGre",
        "outputId": "673823cb-e037-43af-c8df-d6413c6216be"
      },
      "execution_count": null,
      "outputs": [
        {
          "output_type": "stream",
          "name": "stdout",
          "text": [
            "Reading input data...\n",
            "Done!\n",
            "Shape of data =>  (162, 5)\n"
          ]
        }
      ]
    },
    {
      "cell_type": "code",
      "source": [
        "\n",
        "preprocess_clean_data(test_steps_df)"
      ],
      "metadata": {
        "colab": {
          "base_uri": "https://localhost:8080/"
        },
        "id": "SUMYegN_aSPK",
        "outputId": "660ec21b-2566-49c9-b711-c45a4027f1b5"
      },
      "execution_count": null,
      "outputs": [
        {
          "output_type": "stream",
          "name": "stdout",
          "text": [
            "Cleaning test step field...\n",
            "Number of unique words across all test steps:  352\n",
            "Number of words that occurred less than 10 times in test steps:  158\n",
            "Dataset size after preprocessing:  (162, 5)\n"
          ]
        },
        {
          "output_type": "stream",
          "name": "stderr",
          "text": [
            "/usr/local/lib/python3.8/dist-packages/pandas/core/series.py:1056: SettingWithCopyWarning: \n",
            "A value is trying to be set on a copy of a slice from a DataFrame\n",
            "\n",
            "See the caveats in the documentation: https://pandas.pydata.org/pandas-docs/stable/user_guide/indexing.html#returning-a-view-versus-a-copy\n",
            "  cacher_needs_updating = self._check_is_chained_assignment_possible()\n"
          ]
        }
      ]
    },
    {
      "cell_type": "code",
      "source": [
        "\n",
        "step_id_text_tuple_list = list()\n",
        "test_steps_clustering_list = list()\n",
        "for index, row in test_steps_df.iterrows():\n",
        "    step_id = row[\"Step_ID\"]\n",
        "    step_text = row[\"Steps\"]\n",
        "    step_id_text_tuple_list.append((step_id,step_text))\n",
        "\n",
        "    temp_list = list()\n",
        "    if isinstance(row[\"Steps\"], list):\n",
        "        for elem in row[\"Steps\"]:\n",
        "            temp_list.append(elem)\n",
        "    else:\n",
        "        if isinstance(row[\"Steps\"], str):\n",
        "            temp_list.append(row[\"Steps\"])\n",
        "        \n",
        "    # Build list of lists of tokens (words)\n",
        "    test_steps_clustering_list.append(temp_list)\n",
        "    \n",
        "print(\"Length of list of tuples:\" , len(step_id_text_tuple_list))\n",
        "print(\"Length of list with test steps: \" , len(test_steps_clustering_list))"
      ],
      "metadata": {
        "colab": {
          "base_uri": "https://localhost:8080/"
        },
        "id": "6M7Cbs7BaWCr",
        "outputId": "520b66c7-f873-4ecc-d2d0-d03b6808c024"
      },
      "execution_count": null,
      "outputs": [
        {
          "output_type": "stream",
          "name": "stdout",
          "text": [
            "Length of list of tuples: 162\n",
            "Length of list with test steps:  162\n"
          ]
        }
      ]
    },
    {
      "cell_type": "code",
      "source": [
        "\n",
        "index = 0\n",
        "steps_to_remove = list()\n",
        "for step in test_steps_clustering_list:\n",
        "    if len(step) == 0:\n",
        "        steps_to_remove.append(index)\n",
        "    index += 1\n",
        "\n",
        "step_id_text_tuple_list = [step_id_text_tuple_list[index] for index in range(len(step_id_text_tuple_list)) if not index in steps_to_remove]\n",
        "test_steps_clustering_list = [test_steps_clustering_list[index] for index in range(len(test_steps_clustering_list)) if not index in steps_to_remove]\n",
        "print(\"Length of list of tuples:\" , len(step_id_text_tuple_list))\n",
        "print(\"Length of list with test steps: \" , len(test_steps_clustering_list))\n"
      ],
      "metadata": {
        "colab": {
          "base_uri": "https://localhost:8080/"
        },
        "id": "HdIihGUYbfzl",
        "outputId": "f2570abe-3ec5-4705-9c43-392341e28ac4"
      },
      "execution_count": null,
      "outputs": [
        {
          "output_type": "stream",
          "name": "stdout",
          "text": [
            "Length of list of tuples: 162\n",
            "Length of list with test steps:  162\n"
          ]
        }
      ]
    },
    {
      "cell_type": "markdown",
      "source": [
        "Build binary matrix of [test_cases] x [clusters] to indicate which clusters are related to each test case"
      ],
      "metadata": {
        "id": "3n_3f7O3eGkD"
      }
    },
    {
      "cell_type": "code",
      "source": [
        "test_case_steps_dict = {}\n",
        "for index, row in test_steps_df.iterrows():\n",
        "    test_case_key = row['Key']\n",
        "    test_step_id = row['Step_ID']\n",
        "    test_steps = row['Steps']\n",
        "    if len(test_steps) == 0:\n",
        "        continue\n",
        "    if test_case_key in test_case_steps_dict:\n",
        "        existing_list = test_case_steps_dict[test_case_key]\n",
        "        existing_list.append(test_step_id)\n",
        "        test_case_steps_dict[test_case_key] = existing_list\n",
        "    else:\n",
        "        test_case_steps_dict[test_case_key] = [test_step_id]\n",
        "print(\"Number of test cases: \", len(test_case_steps_dict))\n"
      ],
      "metadata": {
        "colab": {
          "base_uri": "https://localhost:8080/"
        },
        "id": "6PhAqxFAeHKI",
        "outputId": "e6f5413e-fc38-407e-e8a9-187fd03c55f2"
      },
      "execution_count": null,
      "outputs": [
        {
          "output_type": "stream",
          "name": "stdout",
          "text": [
            "Number of test cases:  61\n"
          ]
        }
      ]
    },
    {
      "cell_type": "code",
      "source": [
        "numeric_matrix = np.zeros((len(test_case_steps_dict),161))"
      ],
      "metadata": {
        "id": "WRemalMhfr8B"
      },
      "execution_count": null,
      "outputs": []
    },
    {
      "cell_type": "code",
      "source": [
        "row_index = 0\n",
        "for test_case_key in test_case_steps_dict:\n",
        "    steps_ids_list = test_case_steps_dict[test_case_key]\n",
        "    cluster_ids_to_fill_list = list()\n",
        "    for each_step_id in steps_ids_list:\n",
        "        cluster_id = approach_ensemble_dict[each_step_id]\n",
        "        cluster_ids_to_fill_list.append(cluster_id)\n",
        "    \n",
        "   \n",
        "    tuple_count_clusters = list()\n",
        "    cluster_ids_set = set(cluster_ids_to_fill_list)\n",
        "    for elem in cluster_ids_set:\n",
        "        counter = 0\n",
        "        for cluster_id in cluster_ids_to_fill_list:\n",
        "            if cluster_id == elem:\n",
        "                counter += 1\n",
        "        tuple_count_clusters.append((elem,counter))\n",
        "\n",
        "    first_tuple_elements = [a_tuple[0] for a_tuple in tuple_count_clusters] \n",
        "    second_tuple_elements = [a_tuple[1] for a_tuple in tuple_count_clusters] \n",
        "\n",
        "    numeric_matrix[row_index,first_tuple_elements] = second_tuple_elements\n",
        "    row_index += 1"
      ],
      "metadata": {
        "id": "ECltSgxmfzJa"
      },
      "execution_count": null,
      "outputs": []
    },
    {
      "cell_type": "code",
      "source": [
        "for row in range(len(test_case_steps_dict)):\n",
        "    for col in range(161):\n",
        "        if numeric_matrix[row,col] > 1:\n",
        "            print(numeric_matrix[row,col])"
      ],
      "metadata": {
        "id": "OtMjJ4cif4uj"
      },
      "execution_count": null,
      "outputs": []
    },
    {
      "cell_type": "markdown",
      "source": [
        "Compute cosine similarity score and build similarity matrix with this score"
      ],
      "metadata": {
        "id": "LLhPv5OReOtZ"
      }
    },
    {
      "cell_type": "code",
      "source": [
        "\n",
        "dist_matrix = np.zeros((len(test_case_steps_dict),len(test_case_steps_dict)))\n",
        "\n",
        "\n",
        "     "
      ],
      "metadata": {
        "id": "mrQsgOckeI8T"
      },
      "execution_count": null,
      "outputs": []
    },
    {
      "cell_type": "code",
      "source": [
        "test_case_dict_keys_list = list(test_case_steps_dict.keys())\n",
        "for i in range(len(test_case_steps_dict)):\n",
        "    for j in range(i, len(test_case_steps_dict)):\n",
        "        computed_dist = 1 - spatial.distance.cosine(numeric_matrix[i,:], numeric_matrix[j,:])\n",
        "        dist_matrix[i,j] = dist_matrix[j,i] = computed_dist\n"
      ],
      "metadata": {
        "id": "LYe6WhjygKBE"
      },
      "execution_count": null,
      "outputs": []
    },
    {
      "cell_type": "markdown",
      "source": [
        "Perform search of different thresholds for the cosine score"
      ],
      "metadata": {
        "id": "-1wgabX4kJKL"
      }
    },
    {
      "cell_type": "code",
      "source": [
        "similarity_thresholds = [np.around(x, 2) for x in np.arange(0.1, 1.05, 0.05)]"
      ],
      "metadata": {
        "id": "kePHaOM_hD7-"
      },
      "execution_count": null,
      "outputs": []
    },
    {
      "cell_type": "code",
      "source": [
        "for threshold in overlap_thresholds:\n",
        "    print(\"Analyzing threshold : \" , threshold)\n",
        "   \n",
        "    test_cases_overlap_tuple_list = list()\n",
        "    for i in range(len(dist_matrix)-1):\n",
        "        for j in range(i+1, len(dist_matrix)):\n",
        "            if (dist_matrix[i,j] >= threshold): \n",
        "                test_cases_overlap_tuple_list.append((i,j))\n",
        "                \n",
        "   \n",
        "    similar_test_cases_list = list()\n",
        "    for test_case_tuple in test_cases_overlap_tuple_list:\n",
        "        index_1 = test_case_tuple[0]\n",
        "        index_2 = test_case_tuple[1]\n",
        "        found = False\n",
        "        for test_case_set in similar_test_cases_list:\n",
        "            if (index_1 in test_case_set) or (index_2 in test_case_set):\n",
        "                test_case_set.add(index_1)\n",
        "                test_case_set.add(index_2)\n",
        "                found = True\n",
        "                break\n",
        "        if not found:\n",
        "            temp_set = set()\n",
        "            temp_set.add(index_1)\n",
        "            temp_set.add(index_2)\n",
        "            similar_test_cases_list.append(temp_set)\n",
        "    print(\"Number of groups of similar test cases: \", len(similar_test_cases_list))\n",
        "\n",
        "    test_case_key_unique = list()\n",
        "    for elem in similar_test_cases_list:\n",
        "        for index in elem:\n",
        "            if index not in test_case_key_unique:\n",
        "                test_case_key_unique.append(index)\n",
        "    print(\"Number of test cases that have at least another similar case: \", len(test_case_key_unique))\n",
        "    print(\"Number of test cases that do NOT have any similar case: \", ( len(test_case_steps_dict) - len(test_case_key_unique) ))\n",
        "    \n",
        "    approach_1_dict = {}\n",
        "    cluster_id = 0\n",
        "    for each_set in similar_test_cases_list:\n",
        "        for elem in each_set:\n",
        "            case_key = test_case_dict_keys_list[elem]\n",
        "            approach_1_dict[case_key] = cluster_id\n",
        "        cluster_id += 1\n",
        "\n",
        "    for elem in range(len(test_case_steps_dict)):\n",
        "        if elem not in test_case_key_unique:\n",
        "            case_key = test_case_dict_keys_list[elem]\n",
        "            approach_1_dict[case_key] = cluster_id\n",
        "            cluster_id += 1\n",
        "\n",
        "   \n",
        "    file_name = '/content/approach_3_similar_test_cases_' + str(threshold) + '.txt'\n",
        "    output_file = open(file_name, 'w')\n",
        "\n",
        "    counter = 0\n",
        "    for key in approach_1_dict:\n",
        "        output_file.write(key + \":\" + str(approach_1_dict[key]) + \"\\n\")\n",
        "    output_file.close()\n"
      ],
      "metadata": {
        "colab": {
          "base_uri": "https://localhost:8080/"
        },
        "id": "vuR5jAdleNux",
        "outputId": "91e0c205-d376-4f08-8901-d5a93fbb9880"
      },
      "execution_count": null,
      "outputs": [
        {
          "output_type": "stream",
          "name": "stdout",
          "text": [
            "Analyzing threshold :  0.1\n",
            "Number of groups of similar test cases:  1\n",
            "Number of test cases that have at least another similar case:  61\n",
            "Number of test cases that do NOT have any similar case:  0\n",
            "Analyzing threshold :  0.15\n",
            "Number of groups of similar test cases:  1\n",
            "Number of test cases that have at least another similar case:  61\n",
            "Number of test cases that do NOT have any similar case:  0\n",
            "Analyzing threshold :  0.2\n",
            "Number of groups of similar test cases:  1\n",
            "Number of test cases that have at least another similar case:  61\n",
            "Number of test cases that do NOT have any similar case:  0\n",
            "Analyzing threshold :  0.25\n",
            "Number of groups of similar test cases:  1\n",
            "Number of test cases that have at least another similar case:  61\n",
            "Number of test cases that do NOT have any similar case:  0\n",
            "Analyzing threshold :  0.3\n",
            "Number of groups of similar test cases:  1\n",
            "Number of test cases that have at least another similar case:  61\n",
            "Number of test cases that do NOT have any similar case:  0\n",
            "Analyzing threshold :  0.35\n",
            "Number of groups of similar test cases:  1\n",
            "Number of test cases that have at least another similar case:  61\n",
            "Number of test cases that do NOT have any similar case:  0\n",
            "Analyzing threshold :  0.4\n",
            "Number of groups of similar test cases:  1\n",
            "Number of test cases that have at least another similar case:  61\n",
            "Number of test cases that do NOT have any similar case:  0\n",
            "Analyzing threshold :  0.45\n",
            "Number of groups of similar test cases:  1\n",
            "Number of test cases that have at least another similar case:  61\n",
            "Number of test cases that do NOT have any similar case:  0\n",
            "Analyzing threshold :  0.5\n",
            "Number of groups of similar test cases:  1\n",
            "Number of test cases that have at least another similar case:  61\n",
            "Number of test cases that do NOT have any similar case:  0\n",
            "Analyzing threshold :  0.55\n",
            "Number of groups of similar test cases:  1\n",
            "Number of test cases that have at least another similar case:  61\n",
            "Number of test cases that do NOT have any similar case:  0\n",
            "Analyzing threshold :  0.6\n",
            "Number of groups of similar test cases:  1\n",
            "Number of test cases that have at least another similar case:  61\n",
            "Number of test cases that do NOT have any similar case:  0\n",
            "Analyzing threshold :  0.65\n",
            "Number of groups of similar test cases:  1\n",
            "Number of test cases that have at least another similar case:  61\n",
            "Number of test cases that do NOT have any similar case:  0\n",
            "Analyzing threshold :  0.7\n",
            "Number of groups of similar test cases:  1\n",
            "Number of test cases that have at least another similar case:  61\n",
            "Number of test cases that do NOT have any similar case:  0\n",
            "Analyzing threshold :  0.75\n",
            "Number of groups of similar test cases:  2\n",
            "Number of test cases that have at least another similar case:  61\n",
            "Number of test cases that do NOT have any similar case:  0\n",
            "Analyzing threshold :  0.8\n",
            "Number of groups of similar test cases:  2\n",
            "Number of test cases that have at least another similar case:  61\n",
            "Number of test cases that do NOT have any similar case:  0\n",
            "Analyzing threshold :  0.85\n",
            "Number of groups of similar test cases:  4\n",
            "Number of test cases that have at least another similar case:  61\n",
            "Number of test cases that do NOT have any similar case:  0\n",
            "Analyzing threshold :  0.9\n",
            "Number of groups of similar test cases:  5\n",
            "Number of test cases that have at least another similar case:  61\n",
            "Number of test cases that do NOT have any similar case:  0\n",
            "Analyzing threshold :  0.95\n",
            "Number of groups of similar test cases:  4\n",
            "Number of test cases that have at least another similar case:  58\n",
            "Number of test cases that do NOT have any similar case:  3\n",
            "Analyzing threshold :  1.0\n",
            "Number of groups of similar test cases:  4\n",
            "Number of test cases that have at least another similar case:  58\n",
            "Number of test cases that do NOT have any similar case:  3\n"
          ]
        }
      ]
    },
    {
      "cell_type": "code",
      "source": [
        "for threshold in similarity_thresholds:\n",
        "    print(\"Analyzing threshold : \" , threshold)\n",
        "    \n",
        "  \n",
        "    test_cases_overlap_tuple_list = list()\n",
        "    for i in range(len(dist_matrix)-1):\n",
        "        for j in range(i+1, len(dist_matrix)):\n",
        "            if (dist_matrix[i,j] >= threshold): \n",
        "                test_cases_overlap_tuple_list.append((i,j))\n",
        "  \n",
        "    similar_test_cases_list = list()\n",
        "    for test_case_tuple in test_cases_overlap_tuple_list:\n",
        "        index_1 = test_case_tuple[0]\n",
        "        index_2 = test_case_tuple[1]\n",
        "        found = False\n",
        "        for test_case_set in similar_test_cases_list:\n",
        "            if (index_1 in test_case_set) or (index_2 in test_case_set):\n",
        "                test_case_set.add(index_1)\n",
        "                test_case_set.add(index_2)\n",
        "                found = True\n",
        "                break\n",
        "        if not found:\n",
        "            temp_set = set()\n",
        "            temp_set.add(index_1)\n",
        "            temp_set.add(index_2)\n",
        "            similar_test_cases_list.append(temp_set)\n",
        "    print(\"Number of groups of similar test cases: \", len(similar_test_cases_list))\n",
        "\n",
        "    test_case_key_unique = list()\n",
        "    for elem in similar_test_cases_list:\n",
        "        for index in elem:\n",
        "            if index not in test_case_key_unique:\n",
        "                test_case_key_unique.append(index)\n",
        "    print(\"Number of test cases that have at least another similar case: \", len(test_case_key_unique))\n",
        "    print(\"Number of test cases that do NOT have any similar case: \", ( len(test_case_steps_dict) - len(test_case_key_unique) ))\n",
        "\n",
        "    approach_3_dict = {}\n",
        "    cluster_id = 0\n",
        "    for each_set in similar_test_cases_list:\n",
        "        for elem in each_set:\n",
        "            case_key = test_case_dict_keys_list[elem]\n",
        "            approach_3_dict[case_key] = cluster_id\n",
        "        cluster_id += 1\n",
        "\n",
        "    for elem in range(len(test_case_steps_dict)):\n",
        "        if elem not in test_case_key_unique:\n",
        "            case_key = test_case_dict_keys_list[elem]\n",
        "            approach_3_dict[case_key] = cluster_id\n",
        "            cluster_id += 1\n",
        "\n",
        "    # save groups of similar test cases\n",
        "    file_name = '/content/approach_3_similar_test_cases_' + str(threshold) + '.txt'\n",
        "    output_file = open(file_name, 'w')\n",
        "\n",
        "    counter = 0\n",
        "    for key in approach_3_dict:\n",
        "        output_file.write(key + \":\" + str(approach_3_dict[key]) + \"\\n\")\n",
        "    output_file.close()\n"
      ],
      "metadata": {
        "colab": {
          "base_uri": "https://localhost:8080/"
        },
        "id": "icyYFZCPeVLr",
        "outputId": "adbe2bc6-a4bc-46c5-a3db-571aa06300d7"
      },
      "execution_count": null,
      "outputs": [
        {
          "output_type": "stream",
          "name": "stdout",
          "text": [
            "Analyzing threshold :  0.1\n",
            "Number of groups of similar test cases:  1\n",
            "Number of test cases that have at least another similar case:  61\n",
            "Number of test cases that do NOT have any similar case:  0\n",
            "Analyzing threshold :  0.15\n",
            "Number of groups of similar test cases:  1\n",
            "Number of test cases that have at least another similar case:  61\n",
            "Number of test cases that do NOT have any similar case:  0\n",
            "Analyzing threshold :  0.2\n",
            "Number of groups of similar test cases:  1\n",
            "Number of test cases that have at least another similar case:  61\n",
            "Number of test cases that do NOT have any similar case:  0\n",
            "Analyzing threshold :  0.25\n",
            "Number of groups of similar test cases:  1\n",
            "Number of test cases that have at least another similar case:  61\n",
            "Number of test cases that do NOT have any similar case:  0\n",
            "Analyzing threshold :  0.3\n",
            "Number of groups of similar test cases:  1\n",
            "Number of test cases that have at least another similar case:  61\n",
            "Number of test cases that do NOT have any similar case:  0\n",
            "Analyzing threshold :  0.35\n",
            "Number of groups of similar test cases:  1\n",
            "Number of test cases that have at least another similar case:  61\n",
            "Number of test cases that do NOT have any similar case:  0\n",
            "Analyzing threshold :  0.4\n",
            "Number of groups of similar test cases:  1\n",
            "Number of test cases that have at least another similar case:  61\n",
            "Number of test cases that do NOT have any similar case:  0\n",
            "Analyzing threshold :  0.45\n",
            "Number of groups of similar test cases:  1\n",
            "Number of test cases that have at least another similar case:  61\n",
            "Number of test cases that do NOT have any similar case:  0\n",
            "Analyzing threshold :  0.5\n",
            "Number of groups of similar test cases:  1\n",
            "Number of test cases that have at least another similar case:  61\n",
            "Number of test cases that do NOT have any similar case:  0\n",
            "Analyzing threshold :  0.55\n",
            "Number of groups of similar test cases:  1\n",
            "Number of test cases that have at least another similar case:  61\n",
            "Number of test cases that do NOT have any similar case:  0\n",
            "Analyzing threshold :  0.6\n",
            "Number of groups of similar test cases:  1\n",
            "Number of test cases that have at least another similar case:  61\n",
            "Number of test cases that do NOT have any similar case:  0\n",
            "Analyzing threshold :  0.65\n",
            "Number of groups of similar test cases:  1\n",
            "Number of test cases that have at least another similar case:  61\n",
            "Number of test cases that do NOT have any similar case:  0\n",
            "Analyzing threshold :  0.7\n",
            "Number of groups of similar test cases:  1\n",
            "Number of test cases that have at least another similar case:  61\n",
            "Number of test cases that do NOT have any similar case:  0\n",
            "Analyzing threshold :  0.75\n",
            "Number of groups of similar test cases:  2\n",
            "Number of test cases that have at least another similar case:  61\n",
            "Number of test cases that do NOT have any similar case:  0\n",
            "Analyzing threshold :  0.8\n",
            "Number of groups of similar test cases:  2\n",
            "Number of test cases that have at least another similar case:  61\n",
            "Number of test cases that do NOT have any similar case:  0\n",
            "Analyzing threshold :  0.85\n",
            "Number of groups of similar test cases:  4\n",
            "Number of test cases that have at least another similar case:  61\n",
            "Number of test cases that do NOT have any similar case:  0\n",
            "Analyzing threshold :  0.9\n",
            "Number of groups of similar test cases:  5\n",
            "Number of test cases that have at least another similar case:  61\n",
            "Number of test cases that do NOT have any similar case:  0\n",
            "Analyzing threshold :  0.95\n",
            "Number of groups of similar test cases:  4\n",
            "Number of test cases that have at least another similar case:  58\n",
            "Number of test cases that do NOT have any similar case:  3\n",
            "Analyzing threshold :  1.0\n",
            "Number of groups of similar test cases:  4\n",
            "Number of test cases that have at least another similar case:  58\n",
            "Number of test cases that do NOT have any similar case:  3\n"
          ]
        }
      ]
    },
    {
      "cell_type": "markdown",
      "source": [
        "Perform search with different overlap thresholds\n"
      ],
      "metadata": {
        "id": "EtgZkTQfeZOL"
      }
    },
    {
      "cell_type": "code",
      "source": [
        "overlap_thresholds = [np.around(x, 2) for x in np.arange(0.1, 1.05, 0.05)]"
      ],
      "metadata": {
        "id": "OuhvmCo9eW8K"
      },
      "execution_count": null,
      "outputs": []
    },
    {
      "cell_type": "code",
      "source": [
        "for threshold in overlap_thresholds:\n",
        "    print(\"Analyzing threshold : \" , threshold)\n",
        "    \n",
        "    test_cases_overlap_tuple_list = list()\n",
        "    for i in range(len(dist_matrix)-1):\n",
        "        for j in range(i+1, len(dist_matrix)):\n",
        "            if (dist_matrix[i,j] >= threshold):  \n",
        "                test_cases_overlap_tuple_list.append((i,j))\n",
        "                \n",
        "  \n",
        "    similar_test_cases_list = list()\n",
        "    for test_case_tuple in test_cases_overlap_tuple_list:\n",
        "        index_1 = test_case_tuple[0]\n",
        "        index_2 = test_case_tuple[1]\n",
        "        found = False\n",
        "        for test_case_set in similar_test_cases_list:\n",
        "            if (index_1 in test_case_set) or (index_2 in test_case_set):\n",
        "                test_case_set.add(index_1)\n",
        "                test_case_set.add(index_2)\n",
        "                found = True\n",
        "                break\n",
        "        if not found:\n",
        "            temp_set = set()\n",
        "            temp_set.add(index_1)\n",
        "            temp_set.add(index_2)\n",
        "            similar_test_cases_list.append(temp_set)\n",
        "    print(\"Number of groups of similar test cases: \", len(similar_test_cases_list))\n",
        "\n",
        "    test_case_key_unique = list()\n",
        "    for elem in similar_test_cases_list:\n",
        "        for index in elem:\n",
        "            if index not in test_case_key_unique:\n",
        "                test_case_key_unique.append(index)\n",
        "    print(\"Number of test cases that have at least another similar case: \", len(test_case_key_unique))\n",
        "    print(\"Number of test cases that do NOT have any similar case: \", ( len(test_case_steps_dict) - len(test_case_key_unique) ))\n",
        "    \n",
        "    approach_1_dict = {}\n",
        "    cluster_id = 0\n",
        "    for each_set in similar_test_cases_list:\n",
        "        for elem in each_set:\n",
        "            case_key = test_case_dict_keys_list[elem]\n",
        "            approach_1_dict[case_key] = cluster_id\n",
        "        cluster_id += 1\n",
        "\n",
        "    for elem in range(len(test_case_steps_dict)):\n",
        "        if elem not in test_case_key_unique:\n",
        "            case_key = test_case_dict_keys_list[elem]\n",
        "            approach_1_dict[case_key] = cluster_id\n",
        "            cluster_id += 1\n",
        "\n",
        "    \n",
        "    file_name = '/content/approach_1_similar_test_cases_' + str(threshold) + '.txt'\n",
        "    output_file = open(file_name, 'w')\n",
        "\n",
        "    counter = 0\n",
        "    for key in approach_1_dict:\n",
        "        output_file.write(key + \":\" + str(approach_1_dict[key]) + \"\\n\")\n",
        "    output_file.close()\n"
      ],
      "metadata": {
        "colab": {
          "base_uri": "https://localhost:8080/"
        },
        "id": "71HCBbTnebMI",
        "outputId": "ad5707cf-21f0-48d6-937c-6f9303c8cc17"
      },
      "execution_count": null,
      "outputs": [
        {
          "output_type": "stream",
          "name": "stdout",
          "text": [
            "Analyzing threshold :  0.1\n",
            "Number of groups of similar test cases:  1\n",
            "Number of test cases that have at least another similar case:  61\n",
            "Number of test cases that do NOT have any similar case:  0\n",
            "Analyzing threshold :  0.15\n",
            "Number of groups of similar test cases:  1\n",
            "Number of test cases that have at least another similar case:  61\n",
            "Number of test cases that do NOT have any similar case:  0\n",
            "Analyzing threshold :  0.2\n",
            "Number of groups of similar test cases:  1\n",
            "Number of test cases that have at least another similar case:  61\n",
            "Number of test cases that do NOT have any similar case:  0\n",
            "Analyzing threshold :  0.25\n",
            "Number of groups of similar test cases:  1\n",
            "Number of test cases that have at least another similar case:  61\n",
            "Number of test cases that do NOT have any similar case:  0\n",
            "Analyzing threshold :  0.3\n",
            "Number of groups of similar test cases:  1\n",
            "Number of test cases that have at least another similar case:  61\n",
            "Number of test cases that do NOT have any similar case:  0\n",
            "Analyzing threshold :  0.35\n",
            "Number of groups of similar test cases:  1\n",
            "Number of test cases that have at least another similar case:  61\n",
            "Number of test cases that do NOT have any similar case:  0\n",
            "Analyzing threshold :  0.4\n",
            "Number of groups of similar test cases:  1\n",
            "Number of test cases that have at least another similar case:  61\n",
            "Number of test cases that do NOT have any similar case:  0\n",
            "Analyzing threshold :  0.45\n",
            "Number of groups of similar test cases:  1\n",
            "Number of test cases that have at least another similar case:  61\n",
            "Number of test cases that do NOT have any similar case:  0\n",
            "Analyzing threshold :  0.5\n",
            "Number of groups of similar test cases:  1\n",
            "Number of test cases that have at least another similar case:  61\n",
            "Number of test cases that do NOT have any similar case:  0\n",
            "Analyzing threshold :  0.55\n",
            "Number of groups of similar test cases:  2\n",
            "Number of test cases that have at least another similar case:  61\n",
            "Number of test cases that do NOT have any similar case:  0\n",
            "Analyzing threshold :  0.6\n",
            "Number of groups of similar test cases:  2\n",
            "Number of test cases that have at least another similar case:  61\n",
            "Number of test cases that do NOT have any similar case:  0\n",
            "Analyzing threshold :  0.65\n",
            "Number of groups of similar test cases:  2\n",
            "Number of test cases that have at least another similar case:  61\n",
            "Number of test cases that do NOT have any similar case:  0\n",
            "Analyzing threshold :  0.7\n",
            "Number of groups of similar test cases:  4\n",
            "Number of test cases that have at least another similar case:  61\n",
            "Number of test cases that do NOT have any similar case:  0\n",
            "Analyzing threshold :  0.75\n",
            "Number of groups of similar test cases:  4\n",
            "Number of test cases that have at least another similar case:  61\n",
            "Number of test cases that do NOT have any similar case:  0\n",
            "Analyzing threshold :  0.8\n",
            "Number of groups of similar test cases:  5\n",
            "Number of test cases that have at least another similar case:  61\n",
            "Number of test cases that do NOT have any similar case:  0\n",
            "Analyzing threshold :  0.85\n",
            "Number of groups of similar test cases:  5\n",
            "Number of test cases that have at least another similar case:  61\n",
            "Number of test cases that do NOT have any similar case:  0\n",
            "Analyzing threshold :  0.9\n",
            "Number of groups of similar test cases:  4\n",
            "Number of test cases that have at least another similar case:  58\n",
            "Number of test cases that do NOT have any similar case:  3\n",
            "Analyzing threshold :  0.95\n",
            "Number of groups of similar test cases:  4\n",
            "Number of test cases that have at least another similar case:  58\n",
            "Number of test cases that do NOT have any similar case:  3\n",
            "Analyzing threshold :  1.0\n",
            "Number of groups of similar test cases:  4\n",
            "Number of test cases that have at least another similar case:  58\n",
            "Number of test cases that do NOT have any similar case:  3\n"
          ]
        }
      ]
    },
    {
      "cell_type": "code",
      "source": [],
      "metadata": {
        "id": "SU9xUGKEeoQ8"
      },
      "execution_count": null,
      "outputs": []
    }
  ]
}